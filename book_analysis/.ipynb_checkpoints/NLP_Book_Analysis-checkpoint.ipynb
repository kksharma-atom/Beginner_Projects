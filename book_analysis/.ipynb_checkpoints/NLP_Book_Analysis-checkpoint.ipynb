{
 "cells": [
  {
   "cell_type": "markdown",
   "id": "287d3e7d-ddf9-4991-981e-e5ae73802236",
   "metadata": {},
   "source": [
    "# Loading the book"
   ]
  },
  {
   "cell_type": "code",
   "execution_count": 1,
   "id": "4fc1b115-6871-4bf0-945e-0d93db245543",
   "metadata": {},
   "outputs": [],
   "source": [
    "with open(\"miracle_in_the_andes.txt\", \"r\") as file:\n",
    "    book = file.read()"
   ]
  },
  {
   "cell_type": "markdown",
   "id": "2ae69329-3af1-4027-9334-269b2ea69ca5",
   "metadata": {},
   "source": [
    "# The most used words (non-articles)"
   ]
  },
  {
   "cell_type": "code",
   "execution_count": 2,
   "id": "fbb4dd64-f4d7-4b23-af8e-97c9d1ca672a",
   "metadata": {},
   "outputs": [],
   "source": [
    "import re\n",
    "pattern = re.compile(\"[a-zA-Z]+\")\n",
    "findings = re.findall(pattern, book.lower())\n"
   ]
  },
  {
   "cell_type": "code",
   "execution_count": 3,
   "id": "3a3ada7c-23a2-4d25-8f6f-cf50c7fd2cae",
   "metadata": {},
   "outputs": [
    {
     "data": {
      "text/plain": [
       "[(5346, 'the'), (2795, 'and'), (2729, 'i'), (2400, 'to'), (2060, 'of')]"
      ]
     },
     "execution_count": 3,
     "metadata": {},
     "output_type": "execute_result"
    }
   ],
   "source": [
    "dict1 = {}\n",
    "for word in findings:\n",
    "    if word in dict1.keys():\n",
    "        dict1[word] = dict1[word] + 1\n",
    "    else:\n",
    "        dict1[word] = 1\n",
    "dict1_list = [(values, key) for (key, values) in dict1.items()]\n",
    "dict1_list = sorted(dict1_list, reverse=True)\n",
    "dict1_list[:5]"
   ]
  },
  {
   "cell_type": "markdown",
   "id": "34468a99-e0b0-4f1b-8b5f-2a02fe21cc95",
   "metadata": {},
   "source": [
    "### To know the python version"
   ]
  },
  {
   "cell_type": "code",
   "execution_count": 4,
   "id": "d95a3551-852b-4492-95c3-d16a41beea25",
   "metadata": {},
   "outputs": [
    {
     "data": {
      "text/plain": [
       "'3.12.3'"
      ]
     },
     "execution_count": 4,
     "metadata": {},
     "output_type": "execute_result"
    }
   ],
   "source": [
    "from platform import python_version\n",
    "python_version()"
   ]
  },
  {
   "cell_type": "markdown",
   "id": "fba63905-1114-4fcf-aa45-f9ab38a6c37e",
   "metadata": {},
   "source": [
    "### Install nltk library"
   ]
  },
  {
   "cell_type": "code",
   "execution_count": 5,
   "id": "b55d1981-c1fb-4ece-a2c0-e773c8f5a36b",
   "metadata": {},
   "outputs": [
    {
     "name": "stdout",
     "output_type": "stream",
     "text": [
      "Requirement already satisfied: nltk in /home/doit_kgh/Beginner_Projects/myenv/lib/python3.12/site-packages (3.9.1)\n",
      "Requirement already satisfied: click in /home/doit_kgh/Beginner_Projects/myenv/lib/python3.12/site-packages (from nltk) (8.1.7)\n",
      "Requirement already satisfied: joblib in /home/doit_kgh/Beginner_Projects/myenv/lib/python3.12/site-packages (from nltk) (1.4.2)\n",
      "Requirement already satisfied: regex>=2021.8.3 in /home/doit_kgh/Beginner_Projects/myenv/lib/python3.12/site-packages (from nltk) (2024.9.11)\n",
      "Requirement already satisfied: tqdm in /home/doit_kgh/Beginner_Projects/myenv/lib/python3.12/site-packages (from nltk) (4.66.5)\n"
     ]
    }
   ],
   "source": [
    "!pip3.12 install nltk"
   ]
  },
  {
   "cell_type": "code",
   "execution_count": 6,
   "id": "0e411d8f-c62c-4496-a17d-21e5d3378742",
   "metadata": {},
   "outputs": [
    {
     "name": "stderr",
     "output_type": "stream",
     "text": [
      "[nltk_data] Downloading package stopwords to\n",
      "[nltk_data]     /home/doit_kgh/nltk_data...\n",
      "[nltk_data]   Package stopwords is already up-to-date!\n"
     ]
    }
   ],
   "source": [
    "import nltk\n",
    "nltk.download(\"stopwords\")\n",
    "from nltk.corpus import stopwords\n",
    "english_stopwords = stopwords.words(\"english\")"
   ]
  },
  {
   "cell_type": "code",
   "execution_count": 11,
   "id": "33702fad-278f-4375-b945-5bbdc5f898e6",
   "metadata": {},
   "outputs": [],
   "source": [
    "filtered_list = []\n",
    "for count, word in dict1_list:\n",
    "    if word not in english_stopwords:\n",
    "        filtered_list.append((word, count))"
   ]
  },
  {
   "cell_type": "code",
   "execution_count": 12,
   "id": "ed320e53-064b-4980-8c8b-0264e893e63b",
   "metadata": {},
   "outputs": [
    {
     "data": {
      "text/plain": [
       "[('would', 575),\n",
       " ('us', 519),\n",
       " ('said', 292),\n",
       " ('roberto', 284),\n",
       " ('could', 252),\n",
       " ('one', 249),\n",
       " ('snow', 227),\n",
       " ('mountain', 183),\n",
       " ('time', 182),\n",
       " ('like', 165)]"
      ]
     },
     "execution_count": 12,
     "metadata": {},
     "output_type": "execute_result"
    }
   ],
   "source": [
    "filtered_list[:10]"
   ]
  },
  {
   "cell_type": "markdown",
   "id": "6a872d1a-211e-4079-bd0a-83e2230e6aa8",
   "metadata": {},
   "source": [
    "### Sentiment Analysis: What is the most positive and most negative chapter?"
   ]
  },
  {
   "cell_type": "markdown",
   "id": "216044ab-194d-453a-ae00-8b964a00478d",
   "metadata": {},
   "source": [
    "#### Analyzing the complete book"
   ]
  },
  {
   "cell_type": "code",
   "execution_count": 18,
   "id": "488f576d-c88a-49dc-a19b-2d03e96b97fa",
   "metadata": {},
   "outputs": [
    {
     "name": "stderr",
     "output_type": "stream",
     "text": [
      "[nltk_data] Downloading package vader_lexicon to\n",
      "[nltk_data]     /home/doit_kgh/nltk_data...\n"
     ]
    },
    {
     "data": {
      "text/plain": [
       "True"
      ]
     },
     "execution_count": 18,
     "metadata": {},
     "output_type": "execute_result"
    }
   ],
   "source": [
    "from nltk.sentiment import SentimentIntensityAnalyzer\n",
    "nltk.download(\"vader_lexicon\")"
   ]
  },
  {
   "cell_type": "code",
   "execution_count": 19,
   "id": "580cc8f1-b1c8-4bcf-9366-599d3f8413c6",
   "metadata": {},
   "outputs": [
    {
     "data": {
      "text/plain": [
       "<nltk.sentiment.vader.SentimentIntensityAnalyzer at 0x7d285866b8c0>"
      ]
     },
     "execution_count": 19,
     "metadata": {},
     "output_type": "execute_result"
    }
   ],
   "source": [
    "analyzer = SentimentIntensityAnalyzer()\n",
    "analyzer"
   ]
  },
  {
   "cell_type": "code",
   "execution_count": 34,
   "id": "b1f90ca7-24ec-496f-8dce-f26dd8bdbf02",
   "metadata": {},
   "outputs": [],
   "source": [
    "scores = analyzer.polarity_scores(book)"
   ]
  },
  {
   "cell_type": "code",
   "execution_count": 35,
   "id": "e39d52b4-1363-44f0-b877-01b29131b41a",
   "metadata": {},
   "outputs": [
    {
     "name": "stdout",
     "output_type": "stream",
     "text": [
      "It is positive text\n"
     ]
    }
   ],
   "source": [
    "if scores[\"pos\"] > scores[\"neg\"]:\n",
    "    print(\"It is positive text\")\n",
    "else:\n",
    "    print(\"It is negative text\")"
   ]
  },
  {
   "cell_type": "markdown",
   "id": "6482f647-eae9-4e44-896f-443feafb916a",
   "metadata": {},
   "source": [
    "#### Analyzing a chapter of the book"
   ]
  },
  {
   "cell_type": "code",
   "execution_count": 44,
   "id": "92dc1b7e-2b95-47da-a6fd-a57396fd02f3",
   "metadata": {},
   "outputs": [],
   "source": [
    "import re\n",
    "pattern = re.compile(\"Chapter [0-9]+\")\n",
    "chapters = re.split(pattern, book)\n",
    "\n",
    "chapters = chapters[1:]"
   ]
  },
  {
   "cell_type": "code",
   "execution_count": 53,
   "id": "da795acd-a797-4d8c-b71e-50a2c28dc055",
   "metadata": {},
   "outputs": [],
   "source": [
    "scores_dict = {}\n",
    "for index, chapter in enumerate(chapters, start=1):\n",
    "    \n",
    "    scores = analyzer.polarity_scores(chapter)\n",
    "    if scores[\"pos\"] > scores[\"neg\"]:\n",
    "        scores[index] = \"Positive text\"\n",
    "    else:\n",
    "        scores[index] = \"Negative text\""
   ]
  },
  {
   "cell_type": "code",
   "execution_count": 52,
   "id": "3fffaa5d-6992-4b24-b44d-05cfcad7a0ac",
   "metadata": {},
   "outputs": [
    {
     "data": {
      "text/plain": [
       "{1: {'neg': 0.061, 'neu': 0.779, 'pos': 0.16, 'compound': 1.0},\n",
       " 2: {'neg': 0.12, 'neu': 0.726, 'pos': 0.154, 'compound': 0.9991},\n",
       " 3: {'neg': 0.145, 'neu': 0.751, 'pos': 0.105, 'compound': -0.9999},\n",
       " 4: {'neg': 0.141, 'neu': 0.721, 'pos': 0.138, 'compound': -0.9963},\n",
       " 5: {'neg': 0.118, 'neu': 0.742, 'pos': 0.141, 'compound': 0.9997},\n",
       " 6: {'neg': 0.124, 'neu': 0.761, 'pos': 0.115, 'compound': -0.9979},\n",
       " 7: {'neg': 0.136, 'neu': 0.761, 'pos': 0.103, 'compound': -0.9999},\n",
       " 8: {'neg': 0.12, 'neu': 0.786, 'pos': 0.094, 'compound': -0.9998},\n",
       " 9: {'neg': 0.097, 'neu': 0.824, 'pos': 0.079, 'compound': -0.9996},\n",
       " 10: {'neg': 0.086, 'neu': 0.733, 'pos': 0.181, 'compound': 1.0}}"
      ]
     },
     "execution_count": 52,
     "metadata": {},
     "output_type": "execute_result"
    }
   ],
   "source": [
    "scores_dict"
   ]
  }
 ],
 "metadata": {
  "kernelspec": {
   "display_name": "Python 3 (ipykernel)",
   "language": "python",
   "name": "python3"
  },
  "language_info": {
   "codemirror_mode": {
    "name": "ipython",
    "version": 3
   },
   "file_extension": ".py",
   "mimetype": "text/x-python",
   "name": "python",
   "nbconvert_exporter": "python",
   "pygments_lexer": "ipython3",
   "version": "3.12.3"
  }
 },
 "nbformat": 4,
 "nbformat_minor": 5
}
