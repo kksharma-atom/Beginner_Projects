{
 "cells": [
  {
   "cell_type": "markdown",
   "id": "7cb60148-7ee0-4f42-a40b-8bf0fba0a556",
   "metadata": {},
   "source": [
    "# Load the book"
   ]
  },
  {
   "cell_type": "code",
   "execution_count": 1,
   "id": "68a9242d-582f-42fd-a704-4f2a1fb82cc1",
   "metadata": {},
   "outputs": [],
   "source": [
    "with open(\"miracle_in_the_andes.txt\", \"r\") as file:\n",
    "    book = file.read()"
   ]
  },
  {
   "cell_type": "code",
   "execution_count": 3,
   "id": "8ea669b1-bc5c-4a4c-9920-79b8513b86bc",
   "metadata": {},
   "outputs": [
    {
     "data": {
      "text/plain": [
       "str"
      ]
     },
     "execution_count": 3,
     "metadata": {},
     "output_type": "execute_result"
    }
   ],
   "source": [
    "type(book)"
   ]
  },
  {
   "cell_type": "markdown",
   "id": "4d60695c-a0b9-41fd-8eb1-a8f0425fb43c",
   "metadata": {},
   "source": [
    "# How many chapters in the book"
   ]
  },
  {
   "cell_type": "markdown",
   "id": "0129a84c-278a-4832-bb05-434d982bbecf",
   "metadata": {},
   "source": [
    "### With string methods"
   ]
  },
  {
   "cell_type": "code",
   "execution_count": 6,
   "id": "7ae85a8c-fa78-440b-b3b9-0c21a5e72f10",
   "metadata": {},
   "outputs": [
    {
     "data": {
      "text/plain": [
       "11"
      ]
     },
     "execution_count": 6,
     "metadata": {},
     "output_type": "execute_result"
    }
   ],
   "source": [
    "book.count(\"Chapter\")"
   ]
  },
  {
   "cell_type": "markdown",
   "id": "583d46de-9dee-4972-bdce-ceff9f1ffbf4",
   "metadata": {},
   "source": [
    "### With regular expressions (regex)"
   ]
  },
  {
   "cell_type": "code",
   "execution_count": 8,
   "id": "343e91a3-d1c8-4b19-ae40-e8f32eab4d01",
   "metadata": {},
   "outputs": [],
   "source": [
    "import re"
   ]
  },
  {
   "cell_type": "code",
   "execution_count": 31,
   "id": "b973416f-8973-4839-8ef6-0e711c906ad9",
   "metadata": {
    "scrolled": true
   },
   "outputs": [
    {
     "data": {
      "text/plain": [
       "10"
      ]
     },
     "execution_count": 31,
     "metadata": {},
     "output_type": "execute_result"
    }
   ],
   "source": [
    "pattern = re.compile(\"Chapter [0-9]+\")\n",
    "findings = re.findall(pattern, book)\n",
    "len(findings)"
   ]
  },
  {
   "cell_type": "markdown",
   "id": "0674a8fa-36d4-4588-ad79-69fc06577298",
   "metadata": {},
   "source": [
    "### Which are the sentences where \"love\" was used"
   ]
  },
  {
   "cell_type": "code",
   "execution_count": 32,
   "id": "abe86ff0-c134-4e6a-b5a9-c5440bdfd526",
   "metadata": {},
   "outputs": [
    {
     "data": {
      "text/plain": [
       "67"
      ]
     },
     "execution_count": 32,
     "metadata": {},
     "output_type": "execute_result"
    }
   ],
   "source": [
    "pattern = re.compile(\"[A-Z]{1}[^.]*[^a-zA-Z]+love[^a-zA-Z]+[^.]*.\")\n",
    "findings = re.findall(pattern, book)\n",
    "len(findings)"
   ]
  },
  {
   "cell_type": "markdown",
   "id": "bb539d0f-eaf3-4bdf-96a5-597415409633",
   "metadata": {},
   "source": [
    "### What are the most used words?"
   ]
  },
  {
   "cell_type": "code",
   "execution_count": 41,
   "id": "7f94fb9a-d17a-4a9d-9152-81ad70ccf66f",
   "metadata": {},
   "outputs": [
    {
     "data": {
      "text/plain": [
       "['chapter', 'before', 'it', 'was', 'friday']"
      ]
     },
     "execution_count": 41,
     "metadata": {},
     "output_type": "execute_result"
    }
   ],
   "source": [
    "pattern = re.compile(\"[a-zA-Z]+\")\n",
    "findings = re.findall(pattern, book.lower())\n",
    "findings[:5]"
   ]
  },
  {
   "cell_type": "code",
   "execution_count": 48,
   "id": "3794fac2-1a5f-4349-951b-9821653a8b09",
   "metadata": {},
   "outputs": [
    {
     "data": {
      "text/plain": [
       "6992"
      ]
     },
     "execution_count": 48,
     "metadata": {},
     "output_type": "execute_result"
    }
   ],
   "source": [
    "dict1 = {}\n",
    "for word in findings:\n",
    "    if word in dict1.keys():\n",
    "        dict1[word] = dict1[word] + 1\n",
    "    else:\n",
    "        dict1[word] = 1\n",
    "dict1_list = [(value, key) for (key, value) in dict1.items()]\n",
    "len(sorted(dict1_list, reverse=True))"
   ]
  },
  {
   "cell_type": "markdown",
   "id": "b2fe7705-c1ef-4e6f-9147-b03b57a23bad",
   "metadata": {},
   "source": [
    "### Occurence of a word "
   ]
  },
  {
   "cell_type": "code",
   "execution_count": 52,
   "id": "6b76c51c-7420-4bdc-b122-eccaebdad3b8",
   "metadata": {},
   "outputs": [
    {
     "data": {
      "text/plain": [
       "5346"
      ]
     },
     "execution_count": 52,
     "metadata": {},
     "output_type": "execute_result"
    }
   ],
   "source": [
    "def occurence(word):\n",
    "    count = 0\n",
    "    pattern = re.compile(\"[a-zA-Z]+\")\n",
    "    findings = re.findall(pattern, book.lower())\n",
    "    for finding in findings:\n",
    "        if finding == word:\n",
    "            count = count + 1\n",
    "    if count == 0:\n",
    "        return \"That word does not exist\"\n",
    "    return count\n",
    "\n",
    "result = occurence(\"the\")\n",
    "result"
   ]
  },
  {
   "cell_type": "markdown",
   "id": "8bab87ac-ffd5-4751-879d-94e1b7f639df",
   "metadata": {},
   "source": [
    "### Extract the paragraph where \"love\" was used"
   ]
  },
  {
   "cell_type": "code",
   "execution_count": 53,
   "id": "ea61f956-fbd6-4a63-8288-33a3ee65d477",
   "metadata": {},
   "outputs": [
    {
     "data": {
      "text/plain": [
       "['To me, this is the essence of rugby. No other sport gives you such an intense sense of selflessness and unified purpose. I believe this is why rugby players all over the world feel such a passion for the game and such a feeling of brotherhood. As a young man, of course, I could not put these things into words, but I knew, and my teammates knew, that there was something special about the game, and under the guidance of the Christian Brothers we developed a passionate love for the sport that shaped our friendships and our lives. For eight years we played our hearts out for the Christian Brothers—a brotherhood of young boys with Latin names, playing a game with deep Anglo roots under Uruguay’s sunny skies, and proudly wearing the bright green shamrock on our uniforms. The game became so much a part of our lives, in fact, that when we graduated from Stella Maris at the age of sixteen, many of us could not bear the thought that our playing days were over. Our salvation came in the form of the Old Christians Club, a private rugby team formed in 1965 by previous alumni of the Stella Maris rugby program to give Stella Maris ruggers a chance to continue playing the game after our school years ended.',\n",
       " 'There were others—Alexis Hounie, Gastón Costemalle, Daniel Shaw—all of them great players and all of them my friends. But my oldest friend was Guido Magri. He and I had met on my first day at the Stella Maris School—I was eight years old and Guido was one year older—and we had been inseparable ever since. Guido and I grew up together, playing soccer and sharing a love of motorcycles, cars, and auto racing. When I was fifteen we both had mopeds that we had modified in silly ways—removing the mufflers, turn signals, and fenders—and we would ride them to Las Delicias, a famous ice cream parlor in our neighborhood, where we would drool over the girls from the nearby School Sagrado Corazón, hoping to impress them with our souped-up scooters. Guido was a dependable friend, with a good sense of humor and an easy laugh. He was also an outstanding scrum half, as quick and smart as a fox, with good hands and great courage. Under the guidance of the Christian Brothers, both of us grew to love the game of rugby with a consuming passion. As seasons passed we worked hard to improve our skills, and by the time I was fifteen we had each earned a spot on the Stella Maris First XV, the team’s starting lineup. After graduation, both of us went on to join the Old Christians and spent several happy seasons pursuing the high-octane social life of young rugby players. That rowdiness came to an abrupt end for Guido in 1969, when he met and fell in love with the beautiful daughter of a Chilean diplomat. She was now his fiancée, and he was happy to behave himself for her sake.']"
      ]
     },
     "execution_count": 53,
     "metadata": {},
     "output_type": "execute_result"
    }
   ],
   "source": [
    "pattern = re.compile(\"[^\\n]+love[^\\n]+\")\n",
    "findings = re.findall(pattern, book)\n",
    "findings[:2]"
   ]
  },
  {
   "cell_type": "markdown",
   "id": "0a48d166-f293-4f29-885b-f8974dacf974",
   "metadata": {},
   "source": [
    "### Extract the chapter titles"
   ]
  },
  {
   "cell_type": "code",
   "execution_count": 60,
   "id": "f968ce5c-d2a9-4f16-a5a5-624605b8a56a",
   "metadata": {},
   "outputs": [
    {
     "data": {
      "text/plain": [
       "['Before',\n",
       " 'Everything Precious',\n",
       " 'A Promise',\n",
       " 'Breathe Once More',\n",
       " 'Abandoned',\n",
       " 'Tomb',\n",
       " 'East',\n",
       " 'The Opposite of Death',\n",
       " 'I See a Man',\n",
       " 'After']"
      ]
     },
     "execution_count": 60,
     "metadata": {},
     "output_type": "execute_result"
    }
   ],
   "source": [
    "pattern = re.compile(\"([a-zA-Z ,]+)\\n\\n\")\n",
    "findings = re.findall(pattern, book)\n",
    "findings"
   ]
  }
 ],
 "metadata": {
  "kernelspec": {
   "display_name": "Python 3 (ipykernel)",
   "language": "python",
   "name": "python3"
  },
  "language_info": {
   "codemirror_mode": {
    "name": "ipython",
    "version": 3
   },
   "file_extension": ".py",
   "mimetype": "text/x-python",
   "name": "python",
   "nbconvert_exporter": "python",
   "pygments_lexer": "ipython3",
   "version": "3.12.3"
  }
 },
 "nbformat": 4,
 "nbformat_minor": 5
}
